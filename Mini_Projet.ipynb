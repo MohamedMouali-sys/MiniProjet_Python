{
 "cells": [
  {
   "cell_type": "markdown",
   "id": "45c54cdd-ed16-45f7-8946-00aaeb663ee5",
   "metadata": {},
   "source": [
    "<div style=\"background-color: lightblue; padding: 10px;\">\n",
    "    <font color='red' size=11><center>Mini-projet :<font color='black' size=11> Analyse de la dépression chez les étudiants à l’aide des bibliothèques Pandas, NumPy et Matplotlib</font></center></font>  \n",
    " <div style=\"text-align: right;\">\n",
    "        <font color='green' size=5>Réalisé par : MOHAMED AIT MOUALI</font>\n",
    "      </div>\n",
    "  <div style=\"text-align: right;\">\n",
    "        <font color='green' size=5>Licence d'Excelence : IOTR</font>\n",
    "    </div>\n",
    "</div>"
   ]
  },
  {
   "cell_type": "markdown",
   "id": "f242c1af-9895-4653-ae67-e153ce60020b",
   "metadata": {},
   "source": [
    "<font color='blue' size=10>1-📝 Introduction:</font>"
   ]
  },
  {
   "cell_type": "markdown",
   "id": "716a4275-4489-41aa-8253-212502c1b589",
   "metadata": {},
   "source": [
    "## Objectif du projet\n",
    "\n",
    "Ce projet a pour objectif de réaliser une analyse exploratoire du jeu de données intitulé **\"Student Depression Dataset\"**, qui regroupe des informations sur les étudiants et leur état de santé mentale.  \n",
    "L’analyse porte principalement sur la recherche de tendances ou de facteurs pouvant être associés à la dépression chez les étudiants.\n",
    "Source data : https://www.kaggle.com/datasets/hopesb/student-depression-dataset/code\n",
    "\n",
    "## Bibliothèques utilisées\n",
    "\n",
    "Pour mener à bien cette étude, nous avons utilisé des bibliothèques Python puissantes et couramment employées en science des données :\n",
    "\n",
    "- **Pandas** : pour la manipulation et l’analyse des données tabulaires  \n",
    "- **NumPy** : pour les opérations numériques et les calculs statistiques  \n",
    "- **Matplotlib** : pour la visualisation des données à travers des graphiques et des diagrammes\n",
    "\n",
    "## Étapes de l’étude\n",
    "\n",
    "L’étude s’est articulée autour de plusieurs étapes :\n",
    "\n",
    "1. L’importation et l’exploration du jeu de données  \n",
    "2. Le nettoyage et la manipulation des données  \n",
    "3. L’analyse statistique descriptive  \n",
    "4. La représentation graphique des résultats\n",
    "\n",
    "## Résultats\n",
    "\n",
    "Cette approche nous a permis de dégager des observations utiles sur la répartition de la dépression chez les étudiants selon divers critères tels que l’âge, le genre, ou encore les habitudes de vie.\n"
   ]
  },
  {
   "cell_type": "markdown",
   "id": "813cd851-9966-48c9-919b-d89a0c809011",
   "metadata": {},
   "source": [
    "<font color='blue' size=10> 2- 🧩Démarche du mini-projet:</font>"
   ]
  },
  {
   "cell_type": "markdown",
   "id": "c87ce014-e7e3-4472-acfb-054de7e18237",
   "metadata": {},
   "source": [
    "\n",
    "Dans ce mini-projet, nous avons suivi plusieurs étapes clés pour analyser les données du **Student Depression Dataset** :\n",
    "\n",
    "### 1. Importation des données\n",
    "Nous avons chargé le fichier CSV dans un DataFrame à l’aide de la bibliothèque **Pandas** afin de pouvoir manipuler facilement les données.\n",
    "\n",
    "### 2. Exploration des données\n",
    "Nous avons examiné les premières lignes du jeu de données, vérifié les types de variables, identifié les valeurs manquantes et consulté les statistiques descriptives de base.\n",
    "\n",
    "### 3. Manipulation des données\n",
    "Nous avons sélectionné des colonnes spécifiques, filtré les données selon certains critères (par exemple, les étudiants souffrant de dépression), créé de nouvelles colonnes (comme les tranches d’âge), et trié les données pour mieux les analyser.\n",
    "\n",
    "### 4. Analyse statistique\n",
    "Nous avons calculé des mesures telles que la moyenne, la médiane et l’écart-type, et nous avons regroupé les données par genre ou tranche d’âge afin de mieux comprendre la distribution des cas de dépression.\n",
    "\n",
    "### 5. Visualisation des données\n",
    "Enfin, nous avons utilisé la bibliothèque **Matplotlib** pour représenter graphiquement les résultats à l’aide d’histogrammes, de courbes et de boxplots, facilitant ainsi l’interprétation des tendances observées.\n"
   ]
  },
  {
   "cell_type": "markdown",
   "id": "05da09e4-4078-43b7-a9d8-37f38e894c1a",
   "metadata": {},
   "source": [
    "<font color='blue' size=10> 3- Code python:</font>"
   ]
  },
  {
   "cell_type": "markdown",
   "id": "9f4f695e-3bd7-4147-8adb-20896144b2d5",
   "metadata": {},
   "source": [
    "<font color='green' size=5>✅ 1. Importation et chargement:</font>"
   ]
  },
  {
   "cell_type": "code",
   "execution_count": 5,
   "id": "1708af23-fd82-438b-8139-99ea6bb3c97c",
   "metadata": {},
   "outputs": [
    {
     "name": "stdout",
     "output_type": "stream",
     "text": [
      "   id  Gender   Age           City Profession  Academic Pressure  \\\n",
      "0   2    Male  33.0  Visakhapatnam    Student                5.0   \n",
      "1   8  Female  24.0      Bangalore    Student                2.0   \n",
      "2  26    Male  31.0       Srinagar    Student                3.0   \n",
      "3  30  Female  28.0       Varanasi    Student                3.0   \n",
      "4  32  Female  25.0         Jaipur    Student                4.0   \n",
      "\n",
      "   Work Pressure  CGPA  Study Satisfaction  Job Satisfaction  \\\n",
      "0            0.0  8.97                 2.0               0.0   \n",
      "1            0.0  5.90                 5.0               0.0   \n",
      "2            0.0  7.03                 5.0               0.0   \n",
      "3            0.0  5.59                 2.0               0.0   \n",
      "4            0.0  8.13                 3.0               0.0   \n",
      "\n",
      "      Sleep Duration Dietary Habits   Degree  \\\n",
      "0          5-6 hours        Healthy  B.Pharm   \n",
      "1          5-6 hours       Moderate      BSc   \n",
      "2  Less than 5 hours        Healthy       BA   \n",
      "3          7-8 hours       Moderate      BCA   \n",
      "4          5-6 hours       Moderate   M.Tech   \n",
      "\n",
      "  Have you ever had suicidal thoughts ?  Work/Study Hours  Financial Stress  \\\n",
      "0                                   Yes               3.0               1.0   \n",
      "1                                    No               3.0               2.0   \n",
      "2                                    No               9.0               1.0   \n",
      "3                                   Yes               4.0               5.0   \n",
      "4                                   Yes               1.0               1.0   \n",
      "\n",
      "  Family History of Mental Illness  Depression  \n",
      "0                               No           1  \n",
      "1                              Yes           0  \n",
      "2                              Yes           0  \n",
      "3                              Yes           1  \n",
      "4                               No           0  \n"
     ]
    }
   ],
   "source": [
    "import pandas as pd\n",
    "import matplotlib.pyplot as plt\n",
    "import numpy as np\n",
    "\n",
    "# Charger le fichier CSV\n",
    "df = pd.read_csv('Student Depression Dataset.csv')\n",
    "\n",
    "# Afficher les 5 premières lignes\n",
    "print(df.head())"
   ]
  },
  {
   "cell_type": "markdown",
   "id": "d3a4440e-eb26-4b46-a981-dc88850e5701",
   "metadata": {},
   "source": [
    "<font color='green' size=5>🔍 2. Exploration des données:</font>"
   ]
  },
  {
   "cell_type": "code",
   "execution_count": 6,
   "id": "1e8c8e39-745a-4706-8b0b-9da60f33bf05",
   "metadata": {},
   "outputs": [
    {
     "name": "stdout",
     "output_type": "stream",
     "text": [
      "<class 'pandas.core.frame.DataFrame'>\n",
      "RangeIndex: 2318 entries, 0 to 2317\n",
      "Data columns (total 18 columns):\n",
      " #   Column                                 Non-Null Count  Dtype  \n",
      "---  ------                                 --------------  -----  \n",
      " 0   id                                     2318 non-null   int64  \n",
      " 1   Gender                                 2318 non-null   object \n",
      " 2   Age                                    2318 non-null   float64\n",
      " 3   City                                   2318 non-null   object \n",
      " 4   Profession                             2318 non-null   object \n",
      " 5   Academic Pressure                      2318 non-null   float64\n",
      " 6   Work Pressure                          2318 non-null   float64\n",
      " 7   CGPA                                   2318 non-null   float64\n",
      " 8   Study Satisfaction                     2318 non-null   float64\n",
      " 9   Job Satisfaction                       2318 non-null   float64\n",
      " 10  Sleep Duration                         2318 non-null   object \n",
      " 11  Dietary Habits                         2318 non-null   object \n",
      " 12  Degree                                 2318 non-null   object \n",
      " 13  Have you ever had suicidal thoughts ?  2318 non-null   object \n",
      " 14  Work/Study Hours                       2318 non-null   float64\n",
      " 15  Financial Stress                       2318 non-null   float64\n",
      " 16  Family History of Mental Illness       2318 non-null   object \n",
      " 17  Depression                             2318 non-null   int64  \n",
      "dtypes: float64(8), int64(2), object(8)\n",
      "memory usage: 326.1+ KB\n",
      "None\n",
      "                 id          Age  Academic Pressure  Work Pressure  \\\n",
      "count   2318.000000  2318.000000        2318.000000         2318.0   \n",
      "mean    5955.878775    25.754530           3.159620            0.0   \n",
      "std     3431.914932     4.884392           1.387244            0.0   \n",
      "min        2.000000    18.000000           1.000000            0.0   \n",
      "25%     3018.000000    21.000000           2.000000            0.0   \n",
      "50%     6008.500000    25.000000           3.000000            0.0   \n",
      "75%     8954.750000    30.000000           4.000000            0.0   \n",
      "max    11822.000000    42.000000           5.000000            0.0   \n",
      "\n",
      "              CGPA  Study Satisfaction  Job Satisfaction  Work/Study Hours  \\\n",
      "count  2318.000000         2318.000000       2318.000000       2318.000000   \n",
      "mean      7.686311            2.931838          0.001294          7.195427   \n",
      "std       1.461859            1.361222          0.062311          3.712736   \n",
      "min       5.060000            1.000000          0.000000          0.000000   \n",
      "25%       6.370000            2.000000          0.000000          4.000000   \n",
      "50%       7.800000            3.000000          0.000000          8.000000   \n",
      "75%       8.950000            4.000000          0.000000         10.000000   \n",
      "max      10.000000            5.000000          3.000000         12.000000   \n",
      "\n",
      "       Financial Stress   Depression  \n",
      "count       2318.000000  2318.000000  \n",
      "mean           3.133305     0.590595  \n",
      "std            1.454208     0.491830  \n",
      "min            1.000000     0.000000  \n",
      "25%            2.000000     0.000000  \n",
      "50%            3.000000     1.000000  \n",
      "75%            4.000000     1.000000  \n",
      "max            5.000000     1.000000  \n",
      "id                                       0\n",
      "Gender                                   0\n",
      "Age                                      0\n",
      "City                                     0\n",
      "Profession                               0\n",
      "Academic Pressure                        0\n",
      "Work Pressure                            0\n",
      "CGPA                                     0\n",
      "Study Satisfaction                       0\n",
      "Job Satisfaction                         0\n",
      "Sleep Duration                           0\n",
      "Dietary Habits                           0\n",
      "Degree                                   0\n",
      "Have you ever had suicidal thoughts ?    0\n",
      "Work/Study Hours                         0\n",
      "Financial Stress                         0\n",
      "Family History of Mental Illness         0\n",
      "Depression                               0\n",
      "dtype: int64\n"
     ]
    }
   ],
   "source": [
    "# Infos générales sur le DataFrame\n",
    "print(df.info())\n",
    "\n",
    "# Statistiques de base\n",
    "print(df.describe())\n",
    "\n",
    "# Valeurs manquantes\n",
    "print(df.isnull().sum())\n"
   ]
  },
  {
   "cell_type": "markdown",
   "id": "23e342ea-f310-44b5-a232-d204dafebfb7",
   "metadata": {},
   "source": [
    "<font color='green' size=5>🛠️ 3. Manipulation des données:</font>"
   ]
  },
  {
   "cell_type": "code",
   "execution_count": 9,
   "id": "28340012-2ce5-4a2b-b012-d0c9672bc53f",
   "metadata": {},
   "outputs": [
    {
     "name": "stdout",
     "output_type": "stream",
     "text": [
      "       Age  Gender  Depression\n",
      "0     33.0    Male           1\n",
      "1     24.0  Female           0\n",
      "2     31.0    Male           0\n",
      "3     28.0  Female           1\n",
      "4     25.0  Female           0\n",
      "...    ...     ...         ...\n",
      "2313  20.0    Male           0\n",
      "2314  29.0    Male           0\n",
      "2315  33.0  Female           0\n",
      "2316  29.0  Female           0\n",
      "2317  21.0    Male           1\n",
      "\n",
      "[2318 rows x 3 columns]\n",
      "Empty DataFrame\n",
      "Columns: [id, Gender, Age, City, Profession, Academic Pressure, Work Pressure, CGPA, Study Satisfaction, Job Satisfaction, Sleep Duration, Dietary Habits, Degree, Have you ever had suicidal thoughts ?, Work/Study Hours, Financial Stress, Family History of Mental Illness, Depression]\n",
      "Index: []\n",
      "       Age    Age_Group\n",
      "0     33.0          NaN\n",
      "1     24.0        Adult\n",
      "2     31.0          NaN\n",
      "3     28.0        Adult\n",
      "4     25.0        Adult\n",
      "...    ...          ...\n",
      "2313  20.0  Young Adult\n",
      "2314  29.0        Adult\n",
      "2315  33.0          NaN\n",
      "2316  29.0        Adult\n",
      "2317  21.0  Young Adult\n",
      "\n",
      "[2318 rows x 2 columns]\n",
      "         id  Gender   Age         City Profession  Academic Pressure  \\\n",
      "1076   5569  Female  42.0       Rajkot    Student                2.0   \n",
      "201     978  Female  39.0       Kalyan    Student                5.0   \n",
      "1330   6852    Male  36.0       Mumbai    Student                5.0   \n",
      "307    1493  Female  35.0       Meerut    Student                5.0   \n",
      "374    1864  Female  34.0     Varanasi    Student                5.0   \n",
      "...     ...     ...   ...          ...        ...                ...   \n",
      "860    4417    Male  18.0      Kolkata    Student                5.0   \n",
      "832    4284  Female  18.0       Bhopal    Student                3.0   \n",
      "835    4309    Male  18.0         Agra    Student                3.0   \n",
      "1394   7157  Female  18.0     Ludhiana    Student                2.0   \n",
      "2257  11519    Male  18.0  Vasai-Virar    Student                1.0   \n",
      "\n",
      "      Work Pressure  CGPA  Study Satisfaction  Job Satisfaction  \\\n",
      "1076            0.0  9.03                 5.0               0.0   \n",
      "201             0.0  6.51                 4.0               0.0   \n",
      "1330            0.0  7.10                 5.0               0.0   \n",
      "307             0.0  5.32                 2.0               0.0   \n",
      "374             0.0  5.72                 2.0               0.0   \n",
      "...             ...   ...                 ...               ...   \n",
      "860             0.0  6.37                 3.0               0.0   \n",
      "832             0.0  9.94                 4.0               0.0   \n",
      "835             0.0  6.83                 4.0               0.0   \n",
      "1394            0.0  5.56                 4.0               0.0   \n",
      "2257            0.0  7.25                 5.0               0.0   \n",
      "\n",
      "         Sleep Duration Dietary Habits    Degree  \\\n",
      "1076  More than 8 hours       Moderate  Class 12   \n",
      "201           7-8 hours       Moderate    M.Tech   \n",
      "1330  Less than 5 hours       Moderate       MSc   \n",
      "307           7-8 hours       Moderate       PhD   \n",
      "374           7-8 hours        Healthy     M.Com   \n",
      "...                 ...            ...       ...   \n",
      "860   Less than 5 hours       Moderate  Class 12   \n",
      "832           5-6 hours        Healthy  Class 12   \n",
      "835           7-8 hours      Unhealthy  Class 12   \n",
      "1394          7-8 hours       Moderate  Class 12   \n",
      "2257  Less than 5 hours       Moderate  Class 12   \n",
      "\n",
      "     Have you ever had suicidal thoughts ?  Work/Study Hours  \\\n",
      "1076                                   Yes               3.0   \n",
      "201                                    Yes               7.0   \n",
      "1330                                   Yes               0.0   \n",
      "307                                     No               3.0   \n",
      "374                                    Yes               9.0   \n",
      "...                                    ...               ...   \n",
      "860                                    Yes               6.0   \n",
      "832                                    Yes               9.0   \n",
      "835                                    Yes              10.0   \n",
      "1394                                    No              12.0   \n",
      "2257                                    No              12.0   \n",
      "\n",
      "      Financial Stress Family History of Mental Illness  Depression Age_Group  \n",
      "1076               1.0                              Yes           0       NaN  \n",
      "201                2.0                               No           1       NaN  \n",
      "1330               2.0                              Yes           0       NaN  \n",
      "307                4.0                              Yes           0       NaN  \n",
      "374                1.0                               No           0       NaN  \n",
      "...                ...                              ...         ...       ...  \n",
      "860                5.0                              Yes           1      Teen  \n",
      "832                4.0                               No           1      Teen  \n",
      "835                4.0                               No           1      Teen  \n",
      "1394               5.0                               No           0      Teen  \n",
      "2257               2.0                               No           0      Teen  \n",
      "\n",
      "[2318 rows x 19 columns]\n"
     ]
    }
   ],
   "source": [
    "# Sélection de colonnes spécifiques\n",
    "print(df[['Age', 'Gender', 'Depression']])\n",
    "\n",
    "# Filtrer : les étudiants dépressifs\n",
    "depressed_students = df[df['Depression'] == 'Yes']\n",
    "print(depressed_students)\n",
    "\n",
    "# Créer une nouvelle colonne : \"Age_Group\"\n",
    "df['Age_Group'] = pd.cut(df['Age'], bins=[15, 18, 22, 30], labels=['Teen', 'Young Adult', 'Adult'])\n",
    "print(df[['Age', 'Age_Group']])\n",
    "\n",
    "# Trier les données par Age décroissant\n",
    "print(df.sort_values(by='Age', ascending=False))\n"
   ]
  },
  {
   "cell_type": "markdown",
   "id": "a168a146-ef00-433b-8dbf-01c9b1429eae",
   "metadata": {},
   "source": [
    "<font color='green' size=5>📊 4. Analyse statistique:</font>"
   ]
  },
  {
   "cell_type": "code",
   "execution_count": 14,
   "id": "ed4f52f8-d087-4b9f-9860-6f3d5136f2bf",
   "metadata": {},
   "outputs": [
    {
     "name": "stdout",
     "output_type": "stream",
     "text": [
      "Moyenne d'âge : 25.75452976704055\n",
      "Médiane d'âge : 25.0\n",
      "Écart-type d'âge : 4.884391894260112\n",
      "Gender\n",
      "Female    25.524085\n",
      "Male      25.941406\n",
      "Name: Age, dtype: float64\n",
      "Age_Group    Depression\n",
      "Teen         1              92\n",
      "             0              34\n",
      "Young Adult  1             389\n",
      "             0             189\n",
      "Adult        1             685\n",
      "             0             427\n",
      "Name: count, dtype: int64\n"
     ]
    },
    {
     "name": "stderr",
     "output_type": "stream",
     "text": [
      "C:\\Users\\DELL\\AppData\\Local\\Temp\\ipykernel_8416\\856318151.py:10: FutureWarning: The default of observed=False is deprecated and will be changed to True in a future version of pandas. Pass observed=False to retain current behavior or observed=True to adopt the future default and silence this warning.\n",
      "  print(df.groupby('Age_Group')['Depression'].value_counts())\n"
     ]
    }
   ],
   "source": [
    "# Moyenne, médiane, écart-type\n",
    "print(\"Moyenne d'âge :\", df['Age'].mean())\n",
    "print(\"Médiane d'âge :\", df['Age'].median())\n",
    "print(\"Écart-type d'âge :\", df['Age'].std())\n",
    "\n",
    "# Grouper par Genre et calculer la moyenne d'âge\n",
    "print(df.groupby('Gender')['Age'].mean())\n",
    "\n",
    "# Grouper par Age_Group et compter les cas de dépression\n",
    "print(df.groupby('Age_Group')['Depression'].value_counts())\n",
    "\n"
   ]
  },
  {
   "cell_type": "markdown",
   "id": "5561ec6c-31e3-433e-8a7b-5690213b360f",
   "metadata": {},
   "source": [
    "<font color='green' size=5>📈 5. Visualisation des données:</font>"
   ]
  },
  {
   "cell_type": "code",
   "execution_count": 15,
   "id": "c334da90-1e87-4e9f-893c-649e28345f3a",
   "metadata": {},
   "outputs": [
    {
     "data": {
      "image/png": "[encoded data removed]",
      "text/plain": [
       "<Figure size 640x480 with 1 Axes>"
      ]
     },
     "metadata": {},
     "output_type": "display_data"
    },
    {
     "data": {
      "image/png": "[encoded data removed]",
      "text/plain": [
       "<Figure size 640x480 with 1 Axes>"
      ]
     },
     "metadata": {},
     "output_type": "display_data"
    },
    {
     "data": {
      "image/png": "[encoded data removed]",
      "text/plain": [
       "<Figure size 640x480 with 1 Axes>"
      ]
     },
     "metadata": {},
     "output_type": "display_data"
    }
   ],
   "source": [
    "# Histogramme de l'âge\n",
    "df['Age'].hist(bins=10)\n",
    "plt.title(\"Répartition de l'âge\")\n",
    "plt.xlabel(\"Âge\")\n",
    "plt.ylabel(\"Nombre d'étudiants\")\n",
    "plt.show()\n",
    "\n",
    "# Courbe : nombre de cas de dépression par âge\n",
    "df.groupby('Age')['Depression'].apply(lambda x: (x == 'Yes').sum()).plot()\n",
    "plt.title(\"Cas de dépression par âge\")\n",
    "plt.xlabel(\"Âge\")\n",
    "plt.ylabel(\"Nombre de cas\")\n",
    "plt.show()\n",
    "\n",
    "# Boxplot : âge selon la dépression\n",
    "df.boxplot(column='Age', by='Depression')\n",
    "plt.title(\"Âge par statut de dépression\")\n",
    "plt.suptitle(\"\")\n",
    "plt.xlabel(\"Dépression\")\n",
    "plt.ylabel(\"Âge\")\n",
    "plt.show()\n"
   ]
  },
  {
   "cell_type": "code",
   "execution_count": null,
   "id": "a46ece58-3ba7-4272-8e8c-c1b840bf93a7",
   "metadata": {},
   "outputs": [],
   "source": []
  }
 ],
 "metadata": {
  "kernelspec": {
   "display_name": "Python 3 (ipykernel)",
   "language": "python",
   "name": "python3"
  },
  "language_info": {
   "codemirror_mode": {
    "name": "ipython",
    "version": 3
   },
   "file_extension": ".py",
   "mimetype": "text/x-python",
   "name": "python",
   "nbconvert_exporter": "python",
   "pygments_lexer": "ipython3",
   "version": "3.13.1"
  }
 },
 "nbformat": 4,
 "nbformat_minor": 5
}
